{
 "cells": [
  {
   "cell_type": "code",
   "execution_count": 1,
   "metadata": {},
   "outputs": [],
   "source": [
    "class Game():\n",
    "    '''\n",
    "    board = 6x7 numpy array\n",
    "    0 = empty\n",
    "    1 = player 1 (yellow)\n",
    "    2 = player 2 (red), computer\n",
    "\n",
    "    '''\n",
    "\n",
    "    def __init__(self):\n",
    "        self.board = [\n",
    "            ['-','-','-','-','-','-','-'],\n",
    "            ['-','-','-','-','-','-','-'],\n",
    "            ['-','-','-','-','-','-','-'],\n",
    "            ['-','-','-','-','-','-','-'],\n",
    "            ['-','-','-','-','-','-','-'],\n",
    "            ['-','-','-','-','-','-','-'],\n",
    "        ]\n",
    "    \n",
    "    def isValidMove(self, column:int) -> bool:\n",
    "        # ToDo\n",
    "        if self.board[0][column] == '-':\n",
    "            return True\n",
    "        else:\n",
    "            return False\n",
    "\n",
    "    def play(self, player:str, column:int):\n",
    "        \n",
    "        if not self.isValidMove(column=column):\n",
    "            return 'invalid move!'\n",
    "        \n",
    "        column_values = [row[column] for row in game.board]\n",
    "        row = max([i for i,v in enumerate(column_values) if v=='-']) # the row to which the chip will fall\n",
    "        self.board[row][column] = player\n",
    "        return \n",
    "\n",
    "    def checkWinner(self):\n",
    "        \n",
    "        pass\n"
   ]
  },
  {
   "cell_type": "code",
   "execution_count": 2,
   "metadata": {},
   "outputs": [],
   "source": [
    "game = Game()"
   ]
  },
  {
   "cell_type": "code",
   "execution_count": 3,
   "metadata": {},
   "outputs": [
    {
     "output_type": "execute_result",
     "data": {
      "text/plain": [
       "[['-', '-', '-', '-', '-', '-', '-'],\n",
       " ['-', '-', '-', '-', '-', '-', '-'],\n",
       " ['-', '-', '-', '-', '-', '-', '-'],\n",
       " ['-', '-', '-', '-', '-', '-', '-'],\n",
       " ['-', '-', '-', '-', '-', '-', '-'],\n",
       " ['-', '-', '-', '-', '-', '-', '-']]"
      ]
     },
     "metadata": {},
     "execution_count": 3
    }
   ],
   "source": [
    "game.board"
   ]
  },
  {
   "cell_type": "code",
   "execution_count": 4,
   "metadata": {},
   "outputs": [],
   "source": [
    "game.play(player='X', column=4)"
   ]
  },
  {
   "cell_type": "code",
   "execution_count": 5,
   "metadata": {},
   "outputs": [
    {
     "output_type": "execute_result",
     "data": {
      "text/plain": [
       "[['-', '-', '-', '-', '-', '-', '-'],\n",
       " ['-', '-', '-', '-', '-', '-', '-'],\n",
       " ['-', '-', '-', '-', '-', '-', '-'],\n",
       " ['-', '-', '-', '-', '-', '-', '-'],\n",
       " ['-', '-', '-', '-', '-', '-', '-'],\n",
       " ['-', '-', '-', '-', 'X', '-', '-']]"
      ]
     },
     "metadata": {},
     "execution_count": 5
    }
   ],
   "source": [
    "game.board"
   ]
  },
  {
   "cell_type": "code",
   "execution_count": 6,
   "metadata": {},
   "outputs": [],
   "source": [
    "game.play(player=1, column=4)"
   ]
  },
  {
   "cell_type": "code",
   "execution_count": 7,
   "metadata": {},
   "outputs": [],
   "source": [
    "import matplotlib.pyplot as plt\n",
    "from matplotlib import colors\n"
   ]
  },
  {
   "cell_type": "code",
   "execution_count": 8,
   "metadata": {},
   "outputs": [],
   "source": [
    "game = Game()\n",
    "game.play(player='X', column=4)\n",
    "game.play(player='O', column=4)\n",
    "game.play(player='X', column=3)\n",
    "\n",
    "def token2color(board):\n",
    "    mapping = {'-': 0, 'X': 1, 'O': 2}\n",
    "    boardColors = []\n",
    "    for row in game.board:\n",
    "        boardColors.append([mapping[v] for v in row])\n",
    "    return boardColors"
   ]
  },
  {
   "cell_type": "code",
   "execution_count": 9,
   "metadata": {},
   "outputs": [
    {
     "output_type": "execute_result",
     "data": {
      "text/plain": [
       "[[0, 0, 0, 0, 0, 0, 0],\n",
       " [0, 0, 0, 0, 0, 0, 0],\n",
       " [0, 0, 0, 0, 0, 0, 0],\n",
       " [0, 0, 0, 0, 0, 0, 0],\n",
       " [0, 0, 0, 0, 2, 0, 0],\n",
       " [0, 0, 0, 1, 1, 0, 0]]"
      ]
     },
     "metadata": {},
     "execution_count": 9
    }
   ],
   "source": [
    "zvals = token2color(game.board)\n",
    "zvals"
   ]
  },
  {
   "cell_type": "code",
   "execution_count": 15,
   "metadata": {},
   "outputs": [
    {
     "output_type": "display_data",
     "data": {
      "text/plain": "<Figure size 432x288 with 1 Axes>",
      "image/svg+xml": "<?xml version=\"1.0\" encoding=\"utf-8\" standalone=\"no\"?>\n<!DOCTYPE svg PUBLIC \"-//W3C//DTD SVG 1.1//EN\"\n  \"http://www.w3.org/Graphics/SVG/1.1/DTD/svg11.dtd\">\n<!-- Created with matplotlib (https://matplotlib.org/) -->\n<svg height=\"252.317344pt\" version=\"1.1\" viewBox=\"0 0 365.74375 252.317344\" width=\"365.74375pt\" xmlns=\"http://www.w3.org/2000/svg\" xmlns:xlink=\"http://www.w3.org/1999/xlink\">\n <metadata>\n  <rdf:RDF xmlns:cc=\"http://creativecommons.org/ns#\" xmlns:dc=\"http://purl.org/dc/elements/1.1/\" xmlns:rdf=\"http://www.w3.org/1999/02/22-rdf-syntax-ns#\">\n   <cc:Work>\n    <dc:type rdf:resource=\"http://purl.org/dc/dcmitype/StillImage\"/>\n    <dc:date>2020-11-09T21:44:09.480475</dc:date>\n    <dc:format>image/svg+xml</dc:format>\n    <dc:creator>\n     <cc:Agent>\n      <dc:title>Matplotlib v3.3.2, https://matplotlib.org/</dc:title>\n     </cc:Agent>\n    </dc:creator>\n   </cc:Work>\n  </rdf:RDF>\n </metadata>\n <defs>\n  <style type=\"text/css\">*{stroke-linecap:butt;stroke-linejoin:round;}</style>\n </defs>\n <g id=\"figure_1\">\n  <g id=\"patch_1\">\n   <path d=\"M 0 252.317344 \nL 365.74375 252.317344 \nL 365.74375 0 \nL 0 0 \nz\n\" style=\"fill:none;\"/>\n  </g>\n  <g id=\"axes_1\">\n   <g id=\"patch_2\">\n    <path d=\"M 20.5625 228.439219 \nL 355.3625 228.439219 \nL 355.3625 10.999219 \nL 20.5625 10.999219 \nz\n\" style=\"fill:#ffffff;\"/>\n   </g>\n   <g id=\"PolyCollection_1\">\n    <path clip-path=\"url(#pf6a2f87cd0)\" d=\"M 20.5625 10.999219 \nL 20.5625 47.239219 \nL 68.391071 47.239219 \nL 68.391071 10.999219 \nL 20.5625 10.999219 \nz\n\" style=\"fill:#808080;stroke:#000000;stroke-width:4;\"/>\n    <path clip-path=\"url(#pf6a2f87cd0)\" d=\"M 68.391071 10.999219 \nL 68.391071 47.239219 \nL 116.219643 47.239219 \nL 116.219643 10.999219 \nL 68.391071 10.999219 \nz\n\" style=\"fill:#808080;stroke:#000000;stroke-width:4;\"/>\n    <path clip-path=\"url(#pf6a2f87cd0)\" d=\"M 116.219643 10.999219 \nL 116.219643 47.239219 \nL 164.048214 47.239219 \nL 164.048214 10.999219 \nL 116.219643 10.999219 \nz\n\" style=\"fill:#808080;stroke:#000000;stroke-width:4;\"/>\n    <path clip-path=\"url(#pf6a2f87cd0)\" d=\"M 164.048214 10.999219 \nL 164.048214 47.239219 \nL 211.876786 47.239219 \nL 211.876786 10.999219 \nL 164.048214 10.999219 \nz\n\" style=\"fill:#808080;stroke:#000000;stroke-width:4;\"/>\n    <path clip-path=\"url(#pf6a2f87cd0)\" d=\"M 211.876786 10.999219 \nL 211.876786 47.239219 \nL 259.705357 47.239219 \nL 259.705357 10.999219 \nL 211.876786 10.999219 \nz\n\" style=\"fill:#808080;stroke:#000000;stroke-width:4;\"/>\n    <path clip-path=\"url(#pf6a2f87cd0)\" d=\"M 259.705357 10.999219 \nL 259.705357 47.239219 \nL 307.533929 47.239219 \nL 307.533929 10.999219 \nL 259.705357 10.999219 \nz\n\" style=\"fill:#808080;stroke:#000000;stroke-width:4;\"/>\n    <path clip-path=\"url(#pf6a2f87cd0)\" d=\"M 307.533929 10.999219 \nL 307.533929 47.239219 \nL 355.3625 47.239219 \nL 355.3625 10.999219 \nL 307.533929 10.999219 \nz\n\" style=\"fill:#808080;stroke:#000000;stroke-width:4;\"/>\n    <path clip-path=\"url(#pf6a2f87cd0)\" d=\"M 20.5625 47.239219 \nL 20.5625 83.479219 \nL 68.391071 83.479219 \nL 68.391071 47.239219 \nL 20.5625 47.239219 \nz\n\" style=\"fill:#808080;stroke:#000000;stroke-width:4;\"/>\n    <path clip-path=\"url(#pf6a2f87cd0)\" d=\"M 68.391071 47.239219 \nL 68.391071 83.479219 \nL 116.219643 83.479219 \nL 116.219643 47.239219 \nL 68.391071 47.239219 \nz\n\" style=\"fill:#808080;stroke:#000000;stroke-width:4;\"/>\n    <path clip-path=\"url(#pf6a2f87cd0)\" d=\"M 116.219643 47.239219 \nL 116.219643 83.479219 \nL 164.048214 83.479219 \nL 164.048214 47.239219 \nL 116.219643 47.239219 \nz\n\" style=\"fill:#808080;stroke:#000000;stroke-width:4;\"/>\n    <path clip-path=\"url(#pf6a2f87cd0)\" d=\"M 164.048214 47.239219 \nL 164.048214 83.479219 \nL 211.876786 83.479219 \nL 211.876786 47.239219 \nL 164.048214 47.239219 \nz\n\" style=\"fill:#808080;stroke:#000000;stroke-width:4;\"/>\n    <path clip-path=\"url(#pf6a2f87cd0)\" d=\"M 211.876786 47.239219 \nL 211.876786 83.479219 \nL 259.705357 83.479219 \nL 259.705357 47.239219 \nL 211.876786 47.239219 \nz\n\" style=\"fill:#808080;stroke:#000000;stroke-width:4;\"/>\n    <path clip-path=\"url(#pf6a2f87cd0)\" d=\"M 259.705357 47.239219 \nL 259.705357 83.479219 \nL 307.533929 83.479219 \nL 307.533929 47.239219 \nL 259.705357 47.239219 \nz\n\" style=\"fill:#808080;stroke:#000000;stroke-width:4;\"/>\n    <path clip-path=\"url(#pf6a2f87cd0)\" d=\"M 307.533929 47.239219 \nL 307.533929 83.479219 \nL 355.3625 83.479219 \nL 355.3625 47.239219 \nL 307.533929 47.239219 \nz\n\" style=\"fill:#808080;stroke:#000000;stroke-width:4;\"/>\n    <path clip-path=\"url(#pf6a2f87cd0)\" d=\"M 20.5625 83.479219 \nL 20.5625 119.719219 \nL 68.391071 119.719219 \nL 68.391071 83.479219 \nL 20.5625 83.479219 \nz\n\" style=\"fill:#808080;stroke:#000000;stroke-width:4;\"/>\n    <path clip-path=\"url(#pf6a2f87cd0)\" d=\"M 68.391071 83.479219 \nL 68.391071 119.719219 \nL 116.219643 119.719219 \nL 116.219643 83.479219 \nL 68.391071 83.479219 \nz\n\" style=\"fill:#808080;stroke:#000000;stroke-width:4;\"/>\n    <path clip-path=\"url(#pf6a2f87cd0)\" d=\"M 116.219643 83.479219 \nL 116.219643 119.719219 \nL 164.048214 119.719219 \nL 164.048214 83.479219 \nL 116.219643 83.479219 \nz\n\" style=\"fill:#808080;stroke:#000000;stroke-width:4;\"/>\n    <path clip-path=\"url(#pf6a2f87cd0)\" d=\"M 164.048214 83.479219 \nL 164.048214 119.719219 \nL 211.876786 119.719219 \nL 211.876786 83.479219 \nL 164.048214 83.479219 \nz\n\" style=\"fill:#808080;stroke:#000000;stroke-width:4;\"/>\n    <path clip-path=\"url(#pf6a2f87cd0)\" d=\"M 211.876786 83.479219 \nL 211.876786 119.719219 \nL 259.705357 119.719219 \nL 259.705357 83.479219 \nL 211.876786 83.479219 \nz\n\" style=\"fill:#808080;stroke:#000000;stroke-width:4;\"/>\n    <path clip-path=\"url(#pf6a2f87cd0)\" d=\"M 259.705357 83.479219 \nL 259.705357 119.719219 \nL 307.533929 119.719219 \nL 307.533929 83.479219 \nL 259.705357 83.479219 \nz\n\" style=\"fill:#808080;stroke:#000000;stroke-width:4;\"/>\n    <path clip-path=\"url(#pf6a2f87cd0)\" d=\"M 307.533929 83.479219 \nL 307.533929 119.719219 \nL 355.3625 119.719219 \nL 355.3625 83.479219 \nL 307.533929 83.479219 \nz\n\" style=\"fill:#808080;stroke:#000000;stroke-width:4;\"/>\n    <path clip-path=\"url(#pf6a2f87cd0)\" d=\"M 20.5625 119.719219 \nL 20.5625 155.959219 \nL 68.391071 155.959219 \nL 68.391071 119.719219 \nL 20.5625 119.719219 \nz\n\" style=\"fill:#808080;stroke:#000000;stroke-width:4;\"/>\n    <path clip-path=\"url(#pf6a2f87cd0)\" d=\"M 68.391071 119.719219 \nL 68.391071 155.959219 \nL 116.219643 155.959219 \nL 116.219643 119.719219 \nL 68.391071 119.719219 \nz\n\" style=\"fill:#808080;stroke:#000000;stroke-width:4;\"/>\n    <path clip-path=\"url(#pf6a2f87cd0)\" d=\"M 116.219643 119.719219 \nL 116.219643 155.959219 \nL 164.048214 155.959219 \nL 164.048214 119.719219 \nL 116.219643 119.719219 \nz\n\" style=\"fill:#808080;stroke:#000000;stroke-width:4;\"/>\n    <path clip-path=\"url(#pf6a2f87cd0)\" d=\"M 164.048214 119.719219 \nL 164.048214 155.959219 \nL 211.876786 155.959219 \nL 211.876786 119.719219 \nL 164.048214 119.719219 \nz\n\" style=\"fill:#808080;stroke:#000000;stroke-width:4;\"/>\n    <path clip-path=\"url(#pf6a2f87cd0)\" d=\"M 211.876786 119.719219 \nL 211.876786 155.959219 \nL 259.705357 155.959219 \nL 259.705357 119.719219 \nL 211.876786 119.719219 \nz\n\" style=\"fill:#808080;stroke:#000000;stroke-width:4;\"/>\n    <path clip-path=\"url(#pf6a2f87cd0)\" d=\"M 259.705357 119.719219 \nL 259.705357 155.959219 \nL 307.533929 155.959219 \nL 307.533929 119.719219 \nL 259.705357 119.719219 \nz\n\" style=\"fill:#808080;stroke:#000000;stroke-width:4;\"/>\n    <path clip-path=\"url(#pf6a2f87cd0)\" d=\"M 307.533929 119.719219 \nL 307.533929 155.959219 \nL 355.3625 155.959219 \nL 355.3625 119.719219 \nL 307.533929 119.719219 \nz\n\" style=\"fill:#808080;stroke:#000000;stroke-width:4;\"/>\n    <path clip-path=\"url(#pf6a2f87cd0)\" d=\"M 20.5625 155.959219 \nL 20.5625 192.199219 \nL 68.391071 192.199219 \nL 68.391071 155.959219 \nL 20.5625 155.959219 \nz\n\" style=\"fill:#808080;stroke:#000000;stroke-width:4;\"/>\n    <path clip-path=\"url(#pf6a2f87cd0)\" d=\"M 68.391071 155.959219 \nL 68.391071 192.199219 \nL 116.219643 192.199219 \nL 116.219643 155.959219 \nL 68.391071 155.959219 \nz\n\" style=\"fill:#808080;stroke:#000000;stroke-width:4;\"/>\n    <path clip-path=\"url(#pf6a2f87cd0)\" d=\"M 116.219643 155.959219 \nL 116.219643 192.199219 \nL 164.048214 192.199219 \nL 164.048214 155.959219 \nL 116.219643 155.959219 \nz\n\" style=\"fill:#808080;stroke:#000000;stroke-width:4;\"/>\n    <path clip-path=\"url(#pf6a2f87cd0)\" d=\"M 164.048214 155.959219 \nL 164.048214 192.199219 \nL 211.876786 192.199219 \nL 211.876786 155.959219 \nL 164.048214 155.959219 \nz\n\" style=\"fill:#808080;stroke:#000000;stroke-width:4;\"/>\n    <path clip-path=\"url(#pf6a2f87cd0)\" d=\"M 211.876786 155.959219 \nL 211.876786 192.199219 \nL 259.705357 192.199219 \nL 259.705357 155.959219 \nL 211.876786 155.959219 \nz\n\" style=\"fill:#ffff00;stroke:#000000;stroke-width:4;\"/>\n    <path clip-path=\"url(#pf6a2f87cd0)\" d=\"M 259.705357 155.959219 \nL 259.705357 192.199219 \nL 307.533929 192.199219 \nL 307.533929 155.959219 \nL 259.705357 155.959219 \nz\n\" style=\"fill:#808080;stroke:#000000;stroke-width:4;\"/>\n    <path clip-path=\"url(#pf6a2f87cd0)\" d=\"M 307.533929 155.959219 \nL 307.533929 192.199219 \nL 355.3625 192.199219 \nL 355.3625 155.959219 \nL 307.533929 155.959219 \nz\n\" style=\"fill:#808080;stroke:#000000;stroke-width:4;\"/>\n    <path clip-path=\"url(#pf6a2f87cd0)\" d=\"M 20.5625 192.199219 \nL 20.5625 228.439219 \nL 68.391071 228.439219 \nL 68.391071 192.199219 \nL 20.5625 192.199219 \nz\n\" style=\"fill:#808080;stroke:#000000;stroke-width:4;\"/>\n    <path clip-path=\"url(#pf6a2f87cd0)\" d=\"M 68.391071 192.199219 \nL 68.391071 228.439219 \nL 116.219643 228.439219 \nL 116.219643 192.199219 \nL 68.391071 192.199219 \nz\n\" style=\"fill:#808080;stroke:#000000;stroke-width:4;\"/>\n    <path clip-path=\"url(#pf6a2f87cd0)\" d=\"M 116.219643 192.199219 \nL 116.219643 228.439219 \nL 164.048214 228.439219 \nL 164.048214 192.199219 \nL 116.219643 192.199219 \nz\n\" style=\"fill:#808080;stroke:#000000;stroke-width:4;\"/>\n    <path clip-path=\"url(#pf6a2f87cd0)\" d=\"M 164.048214 192.199219 \nL 164.048214 228.439219 \nL 211.876786 228.439219 \nL 211.876786 192.199219 \nL 164.048214 192.199219 \nz\n\" style=\"fill:#ff0000;stroke:#000000;stroke-width:4;\"/>\n    <path clip-path=\"url(#pf6a2f87cd0)\" d=\"M 211.876786 192.199219 \nL 211.876786 228.439219 \nL 259.705357 228.439219 \nL 259.705357 192.199219 \nL 211.876786 192.199219 \nz\n\" style=\"fill:#ff0000;stroke:#000000;stroke-width:4;\"/>\n    <path clip-path=\"url(#pf6a2f87cd0)\" d=\"M 259.705357 192.199219 \nL 259.705357 228.439219 \nL 307.533929 228.439219 \nL 307.533929 192.199219 \nL 259.705357 192.199219 \nz\n\" style=\"fill:#808080;stroke:#000000;stroke-width:4;\"/>\n    <path clip-path=\"url(#pf6a2f87cd0)\" d=\"M 307.533929 192.199219 \nL 307.533929 228.439219 \nL 355.3625 228.439219 \nL 355.3625 192.199219 \nL 307.533929 192.199219 \nz\n\" style=\"fill:#808080;stroke:#000000;stroke-width:4;\"/>\n   </g>\n   <g id=\"matplotlib.axis_1\">\n    <g id=\"xtick_1\">\n     <g id=\"line2d_1\">\n      <defs>\n       <path d=\"M 0 0 \nL 0 3.5 \n\" id=\"m81da5bd4b9\" style=\"stroke:#000000;stroke-width:0.8;\"/>\n      </defs>\n      <g>\n       <use style=\"stroke:#000000;stroke-width:0.8;\" x=\"20.5625\" xlink:href=\"#m81da5bd4b9\" y=\"228.439219\"/>\n      </g>\n     </g>\n     <g id=\"text_1\">\n      <!-- 0 -->\n      <g transform=\"translate(17.38125 243.037656)scale(0.1 -0.1)\">\n       <defs>\n        <path d=\"M 31.78125 66.40625 \nQ 24.171875 66.40625 20.328125 58.90625 \nQ 16.5 51.421875 16.5 36.375 \nQ 16.5 21.390625 20.328125 13.890625 \nQ 24.171875 6.390625 31.78125 6.390625 \nQ 39.453125 6.390625 43.28125 13.890625 \nQ 47.125 21.390625 47.125 36.375 \nQ 47.125 51.421875 43.28125 58.90625 \nQ 39.453125 66.40625 31.78125 66.40625 \nz\nM 31.78125 74.21875 \nQ 44.046875 74.21875 50.515625 64.515625 \nQ 56.984375 54.828125 56.984375 36.375 \nQ 56.984375 17.96875 50.515625 8.265625 \nQ 44.046875 -1.421875 31.78125 -1.421875 \nQ 19.53125 -1.421875 13.0625 8.265625 \nQ 6.59375 17.96875 6.59375 36.375 \nQ 6.59375 54.828125 13.0625 64.515625 \nQ 19.53125 74.21875 31.78125 74.21875 \nz\n\" id=\"DejaVuSans-48\"/>\n       </defs>\n       <use xlink:href=\"#DejaVuSans-48\"/>\n      </g>\n     </g>\n    </g>\n    <g id=\"xtick_2\">\n     <g id=\"line2d_2\">\n      <g>\n       <use style=\"stroke:#000000;stroke-width:0.8;\" x=\"68.391071\" xlink:href=\"#m81da5bd4b9\" y=\"228.439219\"/>\n      </g>\n     </g>\n     <g id=\"text_2\">\n      <!-- 1 -->\n      <g transform=\"translate(65.209821 243.037656)scale(0.1 -0.1)\">\n       <defs>\n        <path d=\"M 12.40625 8.296875 \nL 28.515625 8.296875 \nL 28.515625 63.921875 \nL 10.984375 60.40625 \nL 10.984375 69.390625 \nL 28.421875 72.90625 \nL 38.28125 72.90625 \nL 38.28125 8.296875 \nL 54.390625 8.296875 \nL 54.390625 0 \nL 12.40625 0 \nz\n\" id=\"DejaVuSans-49\"/>\n       </defs>\n       <use xlink:href=\"#DejaVuSans-49\"/>\n      </g>\n     </g>\n    </g>\n    <g id=\"xtick_3\">\n     <g id=\"line2d_3\">\n      <g>\n       <use style=\"stroke:#000000;stroke-width:0.8;\" x=\"116.219643\" xlink:href=\"#m81da5bd4b9\" y=\"228.439219\"/>\n      </g>\n     </g>\n     <g id=\"text_3\">\n      <!-- 2 -->\n      <g transform=\"translate(113.038393 243.037656)scale(0.1 -0.1)\">\n       <defs>\n        <path d=\"M 19.1875 8.296875 \nL 53.609375 8.296875 \nL 53.609375 0 \nL 7.328125 0 \nL 7.328125 8.296875 \nQ 12.9375 14.109375 22.625 23.890625 \nQ 32.328125 33.6875 34.8125 36.53125 \nQ 39.546875 41.84375 41.421875 45.53125 \nQ 43.3125 49.21875 43.3125 52.78125 \nQ 43.3125 58.59375 39.234375 62.25 \nQ 35.15625 65.921875 28.609375 65.921875 \nQ 23.96875 65.921875 18.8125 64.3125 \nQ 13.671875 62.703125 7.8125 59.421875 \nL 7.8125 69.390625 \nQ 13.765625 71.78125 18.9375 73 \nQ 24.125 74.21875 28.421875 74.21875 \nQ 39.75 74.21875 46.484375 68.546875 \nQ 53.21875 62.890625 53.21875 53.421875 \nQ 53.21875 48.921875 51.53125 44.890625 \nQ 49.859375 40.875 45.40625 35.40625 \nQ 44.1875 33.984375 37.640625 27.21875 \nQ 31.109375 20.453125 19.1875 8.296875 \nz\n\" id=\"DejaVuSans-50\"/>\n       </defs>\n       <use xlink:href=\"#DejaVuSans-50\"/>\n      </g>\n     </g>\n    </g>\n    <g id=\"xtick_4\">\n     <g id=\"line2d_4\">\n      <g>\n       <use style=\"stroke:#000000;stroke-width:0.8;\" x=\"164.048214\" xlink:href=\"#m81da5bd4b9\" y=\"228.439219\"/>\n      </g>\n     </g>\n     <g id=\"text_4\">\n      <!-- 3 -->\n      <g transform=\"translate(160.866964 243.037656)scale(0.1 -0.1)\">\n       <defs>\n        <path d=\"M 40.578125 39.3125 \nQ 47.65625 37.796875 51.625 33 \nQ 55.609375 28.21875 55.609375 21.1875 \nQ 55.609375 10.40625 48.1875 4.484375 \nQ 40.765625 -1.421875 27.09375 -1.421875 \nQ 22.515625 -1.421875 17.65625 -0.515625 \nQ 12.796875 0.390625 7.625 2.203125 \nL 7.625 11.71875 \nQ 11.71875 9.328125 16.59375 8.109375 \nQ 21.484375 6.890625 26.8125 6.890625 \nQ 36.078125 6.890625 40.9375 10.546875 \nQ 45.796875 14.203125 45.796875 21.1875 \nQ 45.796875 27.640625 41.28125 31.265625 \nQ 36.765625 34.90625 28.71875 34.90625 \nL 20.21875 34.90625 \nL 20.21875 43.015625 \nL 29.109375 43.015625 \nQ 36.375 43.015625 40.234375 45.921875 \nQ 44.09375 48.828125 44.09375 54.296875 \nQ 44.09375 59.90625 40.109375 62.90625 \nQ 36.140625 65.921875 28.71875 65.921875 \nQ 24.65625 65.921875 20.015625 65.03125 \nQ 15.375 64.15625 9.8125 62.3125 \nL 9.8125 71.09375 \nQ 15.4375 72.65625 20.34375 73.4375 \nQ 25.25 74.21875 29.59375 74.21875 \nQ 40.828125 74.21875 47.359375 69.109375 \nQ 53.90625 64.015625 53.90625 55.328125 \nQ 53.90625 49.265625 50.4375 45.09375 \nQ 46.96875 40.921875 40.578125 39.3125 \nz\n\" id=\"DejaVuSans-51\"/>\n       </defs>\n       <use xlink:href=\"#DejaVuSans-51\"/>\n      </g>\n     </g>\n    </g>\n    <g id=\"xtick_5\">\n     <g id=\"line2d_5\">\n      <g>\n       <use style=\"stroke:#000000;stroke-width:0.8;\" x=\"211.876786\" xlink:href=\"#m81da5bd4b9\" y=\"228.439219\"/>\n      </g>\n     </g>\n     <g id=\"text_5\">\n      <!-- 4 -->\n      <g transform=\"translate(208.695536 243.037656)scale(0.1 -0.1)\">\n       <defs>\n        <path d=\"M 37.796875 64.3125 \nL 12.890625 25.390625 \nL 37.796875 25.390625 \nz\nM 35.203125 72.90625 \nL 47.609375 72.90625 \nL 47.609375 25.390625 \nL 58.015625 25.390625 \nL 58.015625 17.1875 \nL 47.609375 17.1875 \nL 47.609375 0 \nL 37.796875 0 \nL 37.796875 17.1875 \nL 4.890625 17.1875 \nL 4.890625 26.703125 \nz\n\" id=\"DejaVuSans-52\"/>\n       </defs>\n       <use xlink:href=\"#DejaVuSans-52\"/>\n      </g>\n     </g>\n    </g>\n    <g id=\"xtick_6\">\n     <g id=\"line2d_6\">\n      <g>\n       <use style=\"stroke:#000000;stroke-width:0.8;\" x=\"259.705357\" xlink:href=\"#m81da5bd4b9\" y=\"228.439219\"/>\n      </g>\n     </g>\n     <g id=\"text_6\">\n      <!-- 5 -->\n      <g transform=\"translate(256.524107 243.037656)scale(0.1 -0.1)\">\n       <defs>\n        <path d=\"M 10.796875 72.90625 \nL 49.515625 72.90625 \nL 49.515625 64.59375 \nL 19.828125 64.59375 \nL 19.828125 46.734375 \nQ 21.96875 47.46875 24.109375 47.828125 \nQ 26.265625 48.1875 28.421875 48.1875 \nQ 40.625 48.1875 47.75 41.5 \nQ 54.890625 34.8125 54.890625 23.390625 \nQ 54.890625 11.625 47.5625 5.09375 \nQ 40.234375 -1.421875 26.90625 -1.421875 \nQ 22.3125 -1.421875 17.546875 -0.640625 \nQ 12.796875 0.140625 7.71875 1.703125 \nL 7.71875 11.625 \nQ 12.109375 9.234375 16.796875 8.0625 \nQ 21.484375 6.890625 26.703125 6.890625 \nQ 35.15625 6.890625 40.078125 11.328125 \nQ 45.015625 15.765625 45.015625 23.390625 \nQ 45.015625 31 40.078125 35.4375 \nQ 35.15625 39.890625 26.703125 39.890625 \nQ 22.75 39.890625 18.8125 39.015625 \nQ 14.890625 38.140625 10.796875 36.28125 \nz\n\" id=\"DejaVuSans-53\"/>\n       </defs>\n       <use xlink:href=\"#DejaVuSans-53\"/>\n      </g>\n     </g>\n    </g>\n    <g id=\"xtick_7\">\n     <g id=\"line2d_7\">\n      <g>\n       <use style=\"stroke:#000000;stroke-width:0.8;\" x=\"307.533929\" xlink:href=\"#m81da5bd4b9\" y=\"228.439219\"/>\n      </g>\n     </g>\n     <g id=\"text_7\">\n      <!-- 6 -->\n      <g transform=\"translate(304.352679 243.037656)scale(0.1 -0.1)\">\n       <defs>\n        <path d=\"M 33.015625 40.375 \nQ 26.375 40.375 22.484375 35.828125 \nQ 18.609375 31.296875 18.609375 23.390625 \nQ 18.609375 15.53125 22.484375 10.953125 \nQ 26.375 6.390625 33.015625 6.390625 \nQ 39.65625 6.390625 43.53125 10.953125 \nQ 47.40625 15.53125 47.40625 23.390625 \nQ 47.40625 31.296875 43.53125 35.828125 \nQ 39.65625 40.375 33.015625 40.375 \nz\nM 52.59375 71.296875 \nL 52.59375 62.3125 \nQ 48.875 64.0625 45.09375 64.984375 \nQ 41.3125 65.921875 37.59375 65.921875 \nQ 27.828125 65.921875 22.671875 59.328125 \nQ 17.53125 52.734375 16.796875 39.40625 \nQ 19.671875 43.65625 24.015625 45.921875 \nQ 28.375 48.1875 33.59375 48.1875 \nQ 44.578125 48.1875 50.953125 41.515625 \nQ 57.328125 34.859375 57.328125 23.390625 \nQ 57.328125 12.15625 50.6875 5.359375 \nQ 44.046875 -1.421875 33.015625 -1.421875 \nQ 20.359375 -1.421875 13.671875 8.265625 \nQ 6.984375 17.96875 6.984375 36.375 \nQ 6.984375 53.65625 15.1875 63.9375 \nQ 23.390625 74.21875 37.203125 74.21875 \nQ 40.921875 74.21875 44.703125 73.484375 \nQ 48.484375 72.75 52.59375 71.296875 \nz\n\" id=\"DejaVuSans-54\"/>\n       </defs>\n       <use xlink:href=\"#DejaVuSans-54\"/>\n      </g>\n     </g>\n    </g>\n    <g id=\"xtick_8\">\n     <g id=\"line2d_8\">\n      <g>\n       <use style=\"stroke:#000000;stroke-width:0.8;\" x=\"355.3625\" xlink:href=\"#m81da5bd4b9\" y=\"228.439219\"/>\n      </g>\n     </g>\n     <g id=\"text_8\">\n      <!-- 7 -->\n      <g transform=\"translate(352.18125 243.037656)scale(0.1 -0.1)\">\n       <defs>\n        <path d=\"M 8.203125 72.90625 \nL 55.078125 72.90625 \nL 55.078125 68.703125 \nL 28.609375 0 \nL 18.3125 0 \nL 43.21875 64.59375 \nL 8.203125 64.59375 \nz\n\" id=\"DejaVuSans-55\"/>\n       </defs>\n       <use xlink:href=\"#DejaVuSans-55\"/>\n      </g>\n     </g>\n    </g>\n   </g>\n   <g id=\"matplotlib.axis_2\">\n    <g id=\"ytick_1\">\n     <g id=\"line2d_9\">\n      <defs>\n       <path d=\"M 0 0 \nL -3.5 0 \n\" id=\"m4fc332528f\" style=\"stroke:#000000;stroke-width:0.8;\"/>\n      </defs>\n      <g>\n       <use style=\"stroke:#000000;stroke-width:0.8;\" x=\"20.5625\" xlink:href=\"#m4fc332528f\" y=\"10.999219\"/>\n      </g>\n     </g>\n     <g id=\"text_9\">\n      <!-- 0 -->\n      <g transform=\"translate(7.2 14.798437)scale(0.1 -0.1)\">\n       <use xlink:href=\"#DejaVuSans-48\"/>\n      </g>\n     </g>\n    </g>\n    <g id=\"ytick_2\">\n     <g id=\"line2d_10\">\n      <g>\n       <use style=\"stroke:#000000;stroke-width:0.8;\" x=\"20.5625\" xlink:href=\"#m4fc332528f\" y=\"47.239219\"/>\n      </g>\n     </g>\n     <g id=\"text_10\">\n      <!-- 1 -->\n      <g transform=\"translate(7.2 51.038437)scale(0.1 -0.1)\">\n       <use xlink:href=\"#DejaVuSans-49\"/>\n      </g>\n     </g>\n    </g>\n    <g id=\"ytick_3\">\n     <g id=\"line2d_11\">\n      <g>\n       <use style=\"stroke:#000000;stroke-width:0.8;\" x=\"20.5625\" xlink:href=\"#m4fc332528f\" y=\"83.479219\"/>\n      </g>\n     </g>\n     <g id=\"text_11\">\n      <!-- 2 -->\n      <g transform=\"translate(7.2 87.278437)scale(0.1 -0.1)\">\n       <use xlink:href=\"#DejaVuSans-50\"/>\n      </g>\n     </g>\n    </g>\n    <g id=\"ytick_4\">\n     <g id=\"line2d_12\">\n      <g>\n       <use style=\"stroke:#000000;stroke-width:0.8;\" x=\"20.5625\" xlink:href=\"#m4fc332528f\" y=\"119.719219\"/>\n      </g>\n     </g>\n     <g id=\"text_12\">\n      <!-- 3 -->\n      <g transform=\"translate(7.2 123.518437)scale(0.1 -0.1)\">\n       <use xlink:href=\"#DejaVuSans-51\"/>\n      </g>\n     </g>\n    </g>\n    <g id=\"ytick_5\">\n     <g id=\"line2d_13\">\n      <g>\n       <use style=\"stroke:#000000;stroke-width:0.8;\" x=\"20.5625\" xlink:href=\"#m4fc332528f\" y=\"155.959219\"/>\n      </g>\n     </g>\n     <g id=\"text_13\">\n      <!-- 4 -->\n      <g transform=\"translate(7.2 159.758437)scale(0.1 -0.1)\">\n       <use xlink:href=\"#DejaVuSans-52\"/>\n      </g>\n     </g>\n    </g>\n    <g id=\"ytick_6\">\n     <g id=\"line2d_14\">\n      <g>\n       <use style=\"stroke:#000000;stroke-width:0.8;\" x=\"20.5625\" xlink:href=\"#m4fc332528f\" y=\"192.199219\"/>\n      </g>\n     </g>\n     <g id=\"text_14\">\n      <!-- 5 -->\n      <g transform=\"translate(7.2 195.998437)scale(0.1 -0.1)\">\n       <use xlink:href=\"#DejaVuSans-53\"/>\n      </g>\n     </g>\n    </g>\n    <g id=\"ytick_7\">\n     <g id=\"line2d_15\">\n      <g>\n       <use style=\"stroke:#000000;stroke-width:0.8;\" x=\"20.5625\" xlink:href=\"#m4fc332528f\" y=\"228.439219\"/>\n      </g>\n     </g>\n     <g id=\"text_15\">\n      <!-- 6 -->\n      <g transform=\"translate(7.2 232.238437)scale(0.1 -0.1)\">\n       <use xlink:href=\"#DejaVuSans-54\"/>\n      </g>\n     </g>\n    </g>\n   </g>\n   <g id=\"patch_3\">\n    <path d=\"M 20.5625 228.439219 \nL 20.5625 10.999219 \n\" style=\"fill:none;stroke:#000000;stroke-linecap:square;stroke-linejoin:miter;stroke-width:0.8;\"/>\n   </g>\n   <g id=\"patch_4\">\n    <path d=\"M 355.3625 228.439219 \nL 355.3625 10.999219 \n\" style=\"fill:none;stroke:#000000;stroke-linecap:square;stroke-linejoin:miter;stroke-width:0.8;\"/>\n   </g>\n   <g id=\"patch_5\">\n    <path d=\"M 20.5625 228.439219 \nL 355.3625 228.439219 \n\" style=\"fill:none;stroke:#000000;stroke-linecap:square;stroke-linejoin:miter;stroke-width:0.8;\"/>\n   </g>\n   <g id=\"patch_6\">\n    <path d=\"M 20.5625 10.999219 \nL 355.3625 10.999219 \n\" style=\"fill:none;stroke:#000000;stroke-linecap:square;stroke-linejoin:miter;stroke-width:0.8;\"/>\n   </g>\n  </g>\n </g>\n <defs>\n  <clipPath id=\"pf6a2f87cd0\">\n   <rect height=\"217.44\" width=\"334.8\" x=\"20.5625\" y=\"10.999219\"/>\n  </clipPath>\n </defs>\n</svg>\n",
      "image/png": "[encoded data removed]"
     },
     "metadata": {
      "needs_background": "light"
     }
    }
   ],
   "source": [
    "# make a color map of fixed colors\n",
    "cmap = colors.ListedColormap(['gray', 'red', 'yellow'])\n",
    "bounds=[0,0.5,1.5,2]\n",
    "#norm = colors.BoundaryNorm(bounds, cmap.N)\n",
    "fig, ax = plt.subplots()\n",
    "c = ax.pcolor(zvals, edgecolors='k', linewidths=4, cmap=cmap)\n",
    "ax.invert_yaxis()\n",
    "plt.show()"
   ]
  },
  {
   "cell_type": "code",
   "execution_count": null,
   "metadata": {},
   "outputs": [],
   "source": []
  }
 ],
 "metadata": {
  "kernelspec": {
   "display_name": "connect4",
   "language": "python",
   "name": "connect4"
  },
  "language_info": {
   "codemirror_mode": {
    "name": "ipython",
    "version": 3
   },
   "file_extension": ".py",
   "mimetype": "text/x-python",
   "name": "python",
   "nbconvert_exporter": "python",
   "pygments_lexer": "ipython3",
   "version": "3.7.1-final"
  }
 },
 "nbformat": 4,
 "nbformat_minor": 4
}