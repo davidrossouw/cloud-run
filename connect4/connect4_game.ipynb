{
 "cells": [
  {
   "cell_type": "code",
   "execution_count": 1,
   "metadata": {},
   "outputs": [],
   "source": [
    "import matplotlib.pyplot as plt\n",
    "import random\n",
    "from matplotlib import colors"
   ]
  },
  {
   "cell_type": "code",
   "execution_count": 5,
   "metadata": {},
   "outputs": [],
   "source": [
    "class Game():\n",
    "    '''\n",
    "    board = 6x7 numpy array\n",
    "    - = empty\n",
    "    Y = player 1 (yellow)\n",
    "    R = player 2 (red), computer\n",
    "\n",
    "    '''\n",
    "\n",
    "    def __init__(self):\n",
    "        self.board = [\n",
    "            ['-','-','-','-','-','-','-'],\n",
    "            ['-','-','-','-','-','-','-'],\n",
    "            ['-','-','-','-','-','-','-'],\n",
    "            ['-','-','-','-','-','-','-'],\n",
    "            ['-','-','-','-','-','-','-'],\n",
    "            ['-','-','-','-','-','-','-'],\n",
    "        ]\n",
    "        self.winner = None\n",
    "\n",
    "        \n",
    "    def isValidMove(self, column:int) -> bool:\n",
    "        # ToDo\n",
    "        if self.board[0][column] == '-':\n",
    "            return True\n",
    "        else:\n",
    "            return False\n",
    "\n",
    "\n",
    "\n",
    "    def play(self, player:str, column:int):\n",
    "        \n",
    "        if not self.isValidMove(column=column):\n",
    "            return 'invalid move!'\n",
    "        \n",
    "        column_values = [row[column] for row in game.board]\n",
    "        row = max([i for i,v in enumerate(column_values) if v=='-']) # the row to which the chip will fall\n",
    "        self.board[row][column] = player\n",
    "        return \n",
    "\n",
    "    @staticmethod\n",
    "    def plotBoard(board):\n",
    "        mapping = {'-': 0, 'Y': 1, 'R': 2}\n",
    "        boardColors = []\n",
    "        for row in game.board:\n",
    "            boardColors.append([mapping[v] for v in row])\n",
    "\n",
    "        # make a color map of fixed colors\n",
    "        cmap = colors.ListedColormap(['gray', 'yellow', 'red'])\n",
    "        bounds=[0,0.5,1.5,2]\n",
    "        norm = colors.BoundaryNorm(bounds, cmap.N)\n",
    "        fig, ax = plt.subplots()\n",
    "        c = ax.pcolor(boardColors, edgecolors='k', linewidths=4, cmap=cmap, norm=norm)\n",
    "        ax.invert_yaxis()\n",
    "        #ax.set_axis_off()\n",
    "        ax.set_aspect('equal')\n",
    "        return ax\n",
    "\n",
    "    @staticmethod\n",
    "    def fourInARow(row, col, board):\n",
    "        '''\n",
    "        '''\n",
    "        if board[row][col] == '-':\n",
    "            return None\n",
    "        \n",
    "        # vertical down: \n",
    "        if row < len(board)-3:\n",
    "            if (board[row][col] == board[row+1][col] == board[row+2][col] == board[row+3][col]):\n",
    "                return board[row][col]\n",
    "        \n",
    "        # horizontal right:\n",
    "        if col < len(board[0])-3:\n",
    "            if (board[row][col] == board[row][col+1] == board[row][col+2] == board[row][col+3]):\n",
    "                return board[row][col]\n",
    "\n",
    "        # right diag: \n",
    "        if (row < len(board)-3) & (col < len(board[0])-3):\n",
    "            if (board[row][col] == board[row+1][col+1] == board[row+2][col+2] == board[row+3][col+3]):\n",
    "                return board[row][col]\n",
    "\n",
    "        # left diag: \n",
    "        if (row < len(board)-3) & (col > 2):\n",
    "            if (board[row][col] == board[row+1][col-1] == board[row+2][col-2] == board[row+3][col-3]):\n",
    "                return board[row][col]\n",
    "        return None\n",
    "\n",
    "\n",
    "    def checkWin(self, board):\n",
    "        '''\n",
    "        '''\n",
    "        for row in range(len(board)):\n",
    "            for col in range(len(board[0])):\n",
    "                check_win = self.fourInARow(row, col, board)\n",
    "                if check_win: \n",
    "                    self.winner = check_win\n",
    "                    break\n",
    "            if self.winner:\n",
    "                break\n"
   ]
  },
  {
   "source": [
    "game = Game()\n",
    "player = 'Y'\n",
    "winner = None\n",
    "while not game.winner:\n",
    "    move = random.choice(range(7))\n",
    "    #print(f'Player: {player}, Move: {move}')\n",
    "\n",
    "    game.play(player=player, column=move)\n",
    "    game.checkWin(game.board)\n",
    "\n",
    "    # switch players\n",
    "    player = {'Y': 'R', 'R': 'Y'}.get(player) \n",
    "\n",
    "print(f'Winner: {game.winner}')\n",
    "ax = game.plotBoard(game.board)\n",
    "ax.plot()"
   ],
   "cell_type": "code",
   "metadata": {},
   "execution_count": null,
   "outputs": []
  },
  {
   "source": [
    "# Create game graph"
   ],
   "cell_type": "markdown",
   "metadata": {}
  },
  {
   "cell_type": "code",
   "execution_count": 14,
   "metadata": {},
   "outputs": [],
   "source": [
    "import networkx as nx"
   ]
  },
  {
   "cell_type": "code",
   "execution_count": 15,
   "metadata": {},
   "outputs": [],
   "source": [
    "G = nx.DiGraph()"
   ]
  },
  {
   "cell_type": "code",
   "execution_count": 19,
   "metadata": {},
   "outputs": [
    {
     "output_type": "execute_result",
     "data": {
      "text/plain": [
       "['-', '-', '-', '-', '-', '-', '-']"
      ]
     },
     "metadata": {},
     "execution_count": 19
    }
   ],
   "source": [
    "game = Game()\n",
    "\n",
    "game.board[0]"
   ]
  },
  {
   "cell_type": "code",
   "execution_count": 22,
   "metadata": {},
   "outputs": [
    {
     "output_type": "execute_result",
     "data": {
      "text/plain": [
       "[0, 1, 2, 3, 4, 5, 6]"
      ]
     },
     "metadata": {},
     "execution_count": 22
    }
   ],
   "source": [
    "available_moves = [col for col, val in enumerate(game.board[0]) if val == '-']\n",
    "available_moves\n"
   ]
  },
  {
   "cell_type": "code",
   "execution_count": null,
   "metadata": {},
   "outputs": [],
   "source": [
    "G.add_node(0, finished=board.is_finished(board.state),\n",
    "            player=turn_marker, state=board.state)"
   ]
  }
 ],
 "metadata": {
  "kernelspec": {
   "display_name": "connect4",
   "language": "python",
   "name": "connect4"
  },
  "language_info": {
   "codemirror_mode": {
    "name": "ipython",
    "version": 3
   },
   "file_extension": ".py",
   "mimetype": "text/x-python",
   "name": "python",
   "nbconvert_exporter": "python",
   "pygments_lexer": "ipython3",
   "version": "3.7.1-final"
  }
 },
 "nbformat": 4,
 "nbformat_minor": 4
}