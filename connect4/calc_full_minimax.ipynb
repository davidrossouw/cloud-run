{
 "cells": [
  {
   "cell_type": "code",
   "execution_count": null,
   "metadata": {},
   "outputs": [],
   "source": [
    "# Need to convert from TTT to connect4"
   ]
  },
  {
   "cell_type": "code",
   "execution_count": 1,
   "metadata": {},
   "outputs": [],
   "source": [
    "import pickle\n",
    "import numpy as np\n",
    "import re\n",
    "from collections import Counter\n",
    "from model import Board, RandomPlayer, MiniMaxPlayer, HumanPlayer, Player, search, minimax, draw_graph\n",
    "import networkx as nx\n",
    "import matplotlib.pyplot as plt\n",
    "from networkx.drawing.nx_agraph import graphviz_layout"
   ]
  },
  {
   "cell_type": "markdown",
   "metadata": {},
   "source": [
    "# Set up a player and blank board"
   ]
  },
  {
   "cell_type": "code",
   "execution_count": 20,
   "metadata": {},
   "outputs": [
    {
     "output_type": "stream",
     "name": "stdout",
     "text": [
      "-|-|-\n-----\n-|-|-\n-----\n-|-|-\n"
     ]
    }
   ],
   "source": [
    "# X goes first\n",
    "player = Player('X')\n",
    "board = Board(state=np.zeros((3,3), dtype=int))\n",
    "board.draw(board.state)"
   ]
  },
  {
   "cell_type": "code",
   "execution_count": 21,
   "metadata": {},
   "outputs": [],
   "source": [
    "# board = Board(state=np.array([[0,0,0],[0,1,0],[2,0,0]], dtype=int))\n",
    "# board.draw(board.state)"
   ]
  },
  {
   "cell_type": "markdown",
   "metadata": {},
   "source": [
    "# Minimax over full game space (depth=9)"
   ]
  },
  {
   "cell_type": "code",
   "execution_count": 22,
   "metadata": {},
   "outputs": [
    {
     "output_type": "stream",
     "name": "stdout",
     "text": [
      "CPU times: user 42.4 s, sys: 722 ms, total: 43.1 s\nWall time: 43.2 s\n"
     ]
    }
   ],
   "source": [
    "%%time\n",
    "G = search(board, player_marker='O', max_depth=9, player_moves_first=False)"
   ]
  },
  {
   "cell_type": "code",
   "execution_count": 23,
   "metadata": {},
   "outputs": [
    {
     "output_type": "stream",
     "name": "stdout",
     "text": [
      "549946\n",
      "255168\n"
     ]
    }
   ],
   "source": [
    "print(G.number_of_nodes())\n",
    "leaf_nodes = [node for node in G.nodes() if G.in_degree(node)!=0 and G.out_degree(node)==0]\n",
    "print(len(leaf_nodes))"
   ]
  },
  {
   "cell_type": "code",
   "execution_count": 24,
   "metadata": {},
   "outputs": [],
   "source": [
    "# #Gs = G.subgraph(nx.dfs_tree(G, 0))\n",
    "# Gs = G.subgraph(nx.dfs_tree(G, 0, depth_limit=3))\n",
    "# Gs.number_of_nodes()\n",
    "# draw_graph(Gs, fig_size=(5, 20), node_label='player', edge_label='move')"
   ]
  },
  {
   "cell_type": "markdown",
   "metadata": {},
   "source": [
    "# Do minimax over all states"
   ]
  },
  {
   "cell_type": "code",
   "execution_count": 25,
   "metadata": {},
   "outputs": [
    {
     "output_type": "stream",
     "name": "stdout",
     "text": [
      "CPU times: user 7.22 s, sys: 257 ms, total: 7.47 s\nWall time: 7.53 s\n"
     ]
    }
   ],
   "source": [
    "%%time\n",
    "H = minimax(G, first_move=False)"
   ]
  },
  {
   "cell_type": "code",
   "execution_count": 26,
   "metadata": {},
   "outputs": [],
   "source": [
    "# #Gs = G.subgraph(nx.dfs_tree(G, 0))\n",
    "# Hs = H.subgraph(nx.dfs_tree(H, 0, depth_limit=2))\n",
    "# Hs.number_of_nodes()\n",
    "# draw_graph(Hs, fig_size=(5, 20), node_label='player', edge_label='move')"
   ]
  },
  {
   "cell_type": "code",
   "execution_count": 27,
   "metadata": {},
   "outputs": [],
   "source": [
    "# #Gs = G.subgraph(nx.dfs_tree(G, 0))\n",
    "# Hs = H.subgraph(nx.dfs_tree(H, 800, depth_limit=4))\n",
    "# Hs.number_of_nodes()\n",
    "# draw_graph(Hs, fig_size=(5, 20), node_label='score', edge_label='move')"
   ]
  },
  {
   "cell_type": "code",
   "execution_count": 28,
   "metadata": {},
   "outputs": [],
   "source": [
    "# Add best minimax move to each node\n",
    "for n in H.nodes():\n",
    "    scores = [(v, c['move'], H.nodes[v]['score']) for (u, v, c) in H.out_edges(n, data=True)]\n",
    "    if scores:\n",
    "        best_move = max(scores, key = lambda t: t[2])[1]\n",
    "        H.nodes[n]['best_move'] = best_move"
   ]
  },
  {
   "cell_type": "code",
   "execution_count": 31,
   "metadata": {},
   "outputs": [],
   "source": [
    "# Hash all best moves:\n",
    "minimax_move = {}\n",
    "\n",
    "def state_to_string(state) -> str:\n",
    "    board_str = np.array_str(state.flatten())\n",
    "    #value_to_marker = {0: '-', 1: 'X', 2: 'O'}\n",
    "    replacements = [\n",
    "        ('0', '-'),\n",
    "        ('1', 'X'),\n",
    "        ('2', 'O'),\n",
    "        ('\\[', ''),\n",
    "        ('\\]', ''),\n",
    "        (' ', ''),\n",
    "    ]\n",
    "    for old, new in replacements:\n",
    "        board_str = re.sub(old, new, board_str)\n",
    "\n",
    "    return board_str\n",
    "\n",
    "def best_move_to_int(best_move:tuple) -> int:\n",
    "    return int(1+(3*best_move[0])+best_move[1])\n",
    "\n",
    "for node in H.nodes(data=True):\n",
    "    if node[1].get('best_move') and node[1].get('player') == 'max':\n",
    "        #minimax_move[node[1]['state'].tostring()] = node[1]['best_move']\n",
    "        minimax_move[state_to_string(node[1]['state'])] = best_move_to_int(node[1]['best_move'])"
   ]
  },
  {
   "cell_type": "markdown",
   "metadata": {},
   "source": [
    "## Save minimax dictionary to disk"
   ]
  },
  {
   "cell_type": "code",
   "execution_count": 32,
   "metadata": {},
   "outputs": [],
   "source": [
    "import json\n",
    "with open('/Users/davidrossouw/Documents/my_projects/cloud-run/tic_tac_toe/ttt_minimax.json', 'w') as f:\n",
    "    json.dump(minimax_move, f)"
   ]
  },
  {
   "cell_type": "code",
   "execution_count": 34,
   "metadata": {},
   "outputs": [
    {
     "output_type": "execute_result",
     "data": {
      "text/plain": [
       "5"
      ]
     },
     "metadata": {},
     "execution_count": 34
    }
   ],
   "source": [
    "minimax_move['X--------']"
   ]
  },
  {
   "cell_type": "code",
   "execution_count": null,
   "metadata": {},
   "outputs": [],
   "source": []
  }
 ],
 "metadata": {
  "kernelspec": {
   "display_name": "Python 3.7.1 64-bit ('tic-tac-toe': venv)",
   "language": "python",
   "name": "python37164bittictactoevenvde4b3033f2604902be38674909ddcef2"
  },
  "language_info": {
   "codemirror_mode": {
    "name": "ipython",
    "version": 3
   },
   "file_extension": ".py",
   "mimetype": "text/x-python",
   "name": "python",
   "nbconvert_exporter": "python",
   "pygments_lexer": "ipython3",
   "version": "3.7.1-final"
  }
 },
 "nbformat": 4,
 "nbformat_minor": 4
}